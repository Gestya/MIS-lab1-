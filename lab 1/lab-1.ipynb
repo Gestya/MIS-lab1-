{
 "cells": [
  {
   "cell_type": "markdown",
   "id": "f70598c1",
   "metadata": {},
   "source": [
    "# Джибуті\n",
    "\n",
    "\n",
    "| Площа      | Населення |\n",
    "|------------|-----------|\n",
    "| 23,200 км² | 793,000   |\n",
    "\n",
    "\n",
    "## Символіка\n",
    "\n",
    "* Прапор\n",
    "*See below*\n",
    "* Герб\n",
    "![Герб](lab-1-symbol.png)\n",
    "\n",
    "\n",
    "## Корисна інформація\n",
    "\n",
    "### Державний устрій\n",
    "\n",
    "<span style=\"color: blue;\n",
    "border: 4px double brown;\n",
    "background: #eee;\n",
    "padding: 5px;\n",
    "margin: 10px;\n",
    "border-radius: 5px;\">Парламентська республіка</span>\n",
    "\n",
    "#### Парламент\n",
    "\n",
    "*Законодавча влада* належить однопалатному **парламенту** — ***Національним зборам***, що складається з 65 депутатів. Депутати обираються загальним голосуванням терміном на 5 років. Право голосу — з 18 років, право бути обраним — з 23 років.\n",
    "\n",
    "\n",
    "### Адміністративно-територіальній поділ\n",
    "\n",
    "- Географічно-територіальні регіони Джибуті:\n",
    "  * Регіон Алі-Сабіх (*Ali Sabieh Region* | *Region d'Ali Sabieh*)\n",
    "  * Регіон Арта (*Arta Region* | *Region d'Arta*)\n",
    "  * Регіон Дикіль (*Dikhil Region* | *Region de Dikhil*)\n",
    "  * Джибуті (місто) (*Djibouti (city)* | *Ville de Djibouti*)\n",
    "  * Регіон Обок *Obock Region* | *Region d'Obock*)\n",
    "  * Регіон Таджура (*Tadjourah Region* | *Region de Tadjourah*)\n",
    "- Адміністративні одиниці — **округи**:\n",
    "  * Алайлі округ (*Alaili Dadda*)\n",
    "  * Алі-Сабіх округ (*Ali Sabieh District*)\n",
    "  * Ас Ейла округ (*As Eyla District*)\n",
    "  * Балга округ (*Balha District*)\n",
    "  * Дикіль округ (*Dikhil District*)\n",
    "  * Джибуті округ (*Djibouti District*)\n",
    "  * Дорра округ (*Dorra District*)\n",
    "  * Обок округ (*Obock District*)\n",
    "  * Ранда округ (*Randa District*)\n",
    "  * Таджура округ (*Tadjourah District*)\n",
    "  * Йобокі округ (*Yoboki District*)\n",
    "\n",
    "\n",
    "### Географія та природа країни\n",
    "\n",
    "Держава розташована у [Східній Африці](https://uk.wikipedia.org/wiki/%D0%A1%D1%85%D1%96%D0%B4%D0%BD%D0%B0_%D0%90%D1%84%D1%80%D0%B8%D0%BA%D0%B0), територія країни простягається з півночі на південь на 200 км, а із заходу на схід — на 117 км. Континентальна держава, розташована в районі Африканського Рогу і на островах Маскаєв, Муша і Семи братів, омивається Аденською і Танджерською затоками та знаходиться з південного входу в Червоне море (Баб-ель-Мандебська протока). На півночі межує з Еритреєю (спільний кордон — 113 км); на заході й півдні — з Ефіопією (337 км); на сході — з Сомалі (60 км). На сході омивається водами Аденської затоки Індійського океану, довжина берегової лінії — 370 км.\n",
    "\n",
    "Тваринний світ країни <span style=\"color: red;\">бідний</span>. Лише навколо <span style=\"color: green;\">оаз</span> можна зустріти невеликі стада антилопи-орикси, за якими полюють <span style=\"color: gray;\">гієни і шакали</span>, а в лісах — зграйки <span style=\"color: orange;\">мавп</span>. Також на цих територіях живуть антилопи куду і сасса, бородавочники, дикі кішки, мангуст, медоїди, морські черепахи, сахарські лисиці, шакали, багато птахів (бл. 240 видів, особливо рідкісні види страусів), плазуни (зокрема варани , кобри і пітони), метелики і комахи. Прибережні води славляться багатством коралових рифів, достатком промислової риби, крабів і лангустів.\n",
    "\n",
    "![Мавпи](https://zelenvsit.cx.ua/wp-content/uploads/2018/4/nzm-5099.jpg)"
   ]
  },
  {
   "cell_type": "code",
   "execution_count": 1,
   "id": "21e2d7fe",
   "metadata": {},
   "outputs": [
    {
     "data": {
      "text/html": [
       "<svg width=\"600\" height=\"400\">\n",
       "    <rect width=\"600\" height=\"400\" style=\"fill:white\" />\n",
       "    <polygon points=\"0,0 340,200 600,200 600,0\" style=\"fill:rgb(117,181,230)\" />\n",
       "    <polygon points=\"0,400 340,200 600,200 600,400\" style=\"fill:rgb(62,174,53)\" />\n",
       "    <polygon points=\"132,150 145,188 185,188 152,212 165,250 132,227 100,250 112,212 80,188 120,188\" style=\"fill:rgb(205,1,18)\" />\n",
       "    <rect width=\"600\" height=\"400\" style=\"stroke-width:1; stroke:black; fill-opacity:0\" />\n",
       "</svg>\n"
      ],
      "text/plain": [
       "<IPython.core.display.HTML object>"
      ]
     },
     "metadata": {},
     "output_type": "display_data"
    }
   ],
   "source": [
    "%%HTML\n",
    "<svg width=\"600\" height=\"400\">\n",
    "    <rect width=\"600\" height=\"400\" style=\"fill:white\" />\n",
    "    <polygon points=\"0,0 340,200 600,200 600,0\" style=\"fill:rgb(117,181,230)\" />\n",
    "    <polygon points=\"0,400 340,200 600,200 600,400\" style=\"fill:rgb(62,174,53)\" />\n",
    "    <polygon points=\"132,150 145,188 185,188 152,212 165,250 132,227 100,250 112,212 80,188 120,188\" style=\"fill:rgb(205,1,18)\" />\n",
    "    <rect width=\"600\" height=\"400\" style=\"stroke-width:1; stroke:black; fill-opacity:0\" />\n",
    "</svg>"
   ]
  },
  {
   "cell_type": "code",
   "execution_count": 2,
   "id": "8ba2bae4",
   "metadata": {},
   "outputs": [],
   "source": [
    "def count_bubble_sort_swapps(arr):\n",
    "    n = len(arr)\n",
    "    swapps = 0\n",
    "\n",
    "    for i in range(n-1):\n",
    "        for j in range(0, n-i-1):\n",
    "            if arr[j] > arr[j + 1]:\n",
    "                arr[j], arr[j + 1] = arr[j + 1], arr[j]\n",
    "                swapps += 1\n",
    "\n",
    "    return swapps\n",
    "    \n",
    "\n",
    "def test_4():\n",
    "    pieces = input().split(' ')\n",
    "    arr = []\n",
    "    for p in pieces:\n",
    "        if not p.isnumeric():\n",
    "            return 'ERROR: Input data is corrupted. All pieces must be a number.'\n",
    "        arr.append(int(p))\n",
    "    \n",
    "    swapps = count_bubble_sort_swapps(arr)\n",
    "    return f'{swapps} swapp(s) has been done.'"
   ]
  },
  {
   "cell_type": "code",
   "execution_count": 6,
   "id": "a1b881dc",
   "metadata": {},
   "outputs": [
    {
     "name": "stdout",
     "output_type": "stream",
     "text": [
      "3 6 0\n"
     ]
    },
    {
     "data": {
      "text/plain": [
       "'2 swapp(s) has been done.'"
      ]
     },
     "execution_count": 6,
     "metadata": {},
     "output_type": "execute_result"
    }
   ],
   "source": [
    "test_4()"
   ]
  },
  {
   "cell_type": "code",
   "execution_count": 7,
   "id": "ad937402",
   "metadata": {},
   "outputs": [
    {
     "name": "stdout",
     "output_type": "stream",
     "text": [
      "3 5 7\n"
     ]
    },
    {
     "data": {
      "text/plain": [
       "'0 swapp(s) has been done.'"
      ]
     },
     "execution_count": 7,
     "metadata": {},
     "output_type": "execute_result"
    }
   ],
   "source": [
    "test_4()"
   ]
  },
  {
   "cell_type": "code",
   "execution_count": 8,
   "id": "9440ca8f",
   "metadata": {},
   "outputs": [
    {
     "name": "stdout",
     "output_type": "stream",
     "text": [
      "4 o 9 3 54\n"
     ]
    },
    {
     "data": {
      "text/plain": [
       "'ERROR: Input data is corrupted. All pieces must be a number.'"
      ]
     },
     "execution_count": 8,
     "metadata": {},
     "output_type": "execute_result"
    }
   ],
   "source": [
    "test_4()"
   ]
  }
 ],
 "metadata": {
  "kernelspec": {
   "display_name": "Python 3 (ipykernel)",
   "language": "python",
   "name": "python3"
  },
  "language_info": {
   "codemirror_mode": {
    "name": "ipython",
    "version": 3
   },
   "file_extension": ".py",
   "mimetype": "text/x-python",
   "name": "python",
   "nbconvert_exporter": "python",
   "pygments_lexer": "ipython3",
   "version": "3.10.11"
  }
 },
 "nbformat": 4,
 "nbformat_minor": 5
}
